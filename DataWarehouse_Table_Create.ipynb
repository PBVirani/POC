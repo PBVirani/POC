{
 "cells": [
  {
   "cell_type": "markdown",
   "id": "9399a9d0",
   "metadata": {},
   "source": [
    "## Connection with Snowflake Warehouse"
   ]
  },
  {
   "cell_type": "code",
   "execution_count": 1,
   "id": "8d82b52a",
   "metadata": {},
   "outputs": [],
   "source": [
    "import pandas as pd\n",
    "\n",
    "# The Snowflake Connector library.\n",
    "import snowflake.connector as snow\n",
    "from snowflake.connector.pandas_tools import write_pandas\n",
    "\n",
    "import sqlalchemy as sql\n",
    "import pandas as pd\n",
    "import os\n",
    "\n",
    "conn = snow.connect(user=\"PB\",\n",
    "   password=\"Maruti@123\",\n",
    "   account=\"vw88853.ap-southeast-1\",\n",
    "   warehouse=\"COMPUTE_WH\",\n",
    "   database=\"POC_WAREHOUSE\",\n",
    "   schema =\"POC_SCHEMA\")\n",
    "# Create a cursor object.\n",
    "cur = conn.cursor()"
   ]
  },
  {
   "cell_type": "markdown",
   "id": "d7d7f3fa",
   "metadata": {},
   "source": [
    "# Meta Tables Create"
   ]
  },
  {
   "cell_type": "code",
   "execution_count": 2,
   "id": "1795fab6",
   "metadata": {},
   "outputs": [
    {
     "data": {
      "text/plain": [
       "<snowflake.connector.cursor.SnowflakeCursor at 0x1e1e9e97970>"
      ]
     },
     "execution_count": 2,
     "metadata": {},
     "output_type": "execute_result"
    }
   ],
   "source": [
    "# Create Table Stock_Spec\n",
    "cur.execute(\"CREATE OR REPLACE TABLE dim_stock(stock_id int PRIMARY KEY,name varchar(50) not null,symbol varchar(20))\")"
   ]
  },
  {
   "cell_type": "code",
   "execution_count": 3,
   "id": "831ec25d",
   "metadata": {},
   "outputs": [
    {
     "data": {
      "text/plain": [
       "<snowflake.connector.cursor.SnowflakeCursor at 0x1e1e9e97970>"
      ]
     },
     "execution_count": 3,
     "metadata": {},
     "output_type": "execute_result"
    }
   ],
   "source": [
    "# Create Table Dim Calendar \n",
    "cur.execute(\"CREATE OR REPLACE TABLE dim_calendar(cl_id int identity(1,1) PRIMARY KEY,date date)\")"
   ]
  },
  {
   "cell_type": "code",
   "execution_count": null,
   "id": "17498714",
   "metadata": {},
   "outputs": [],
   "source": [
    "cur.execute(\"USE SCHEMA POC_USER_SCHEMA\")\n",
    "cur.execute(\"CREATE OR REPLACE TABLE user(user_id int identity(1,1) PRIMARY KEY,username varchar(30),password varchar(30),role varchar(20))\")"
   ]
  },
  {
   "cell_type": "markdown",
   "id": "a8f3acd5",
   "metadata": {},
   "source": [
    "# Stock_price_action Table"
   ]
  },
  {
   "cell_type": "code",
   "execution_count": 4,
   "id": "0628c5b7",
   "metadata": {},
   "outputs": [
    {
     "data": {
      "text/plain": [
       "<snowflake.connector.cursor.SnowflakeCursor at 0x1e1e9e97970>"
      ]
     },
     "execution_count": 4,
     "metadata": {},
     "output_type": "execute_result"
    }
   ],
   "source": [
    "# Create Table stock_price_action\n",
    "cur.execute(\"CREATE OR REPLACE TABLE stock_price_action(stp_id int PRIMARY KEY NOT NULL,stock_id int,traded_datetime datetime,open float,high float,low float,close float,volume number(38,4),candle_duration varchar(10))\")"
   ]
  },
  {
   "cell_type": "markdown",
   "id": "857c0be6",
   "metadata": {},
   "source": [
    "## Data Lake Stock Fundamentals & Financials Tables"
   ]
  },
  {
   "cell_type": "code",
   "execution_count": 5,
   "id": "302818a1",
   "metadata": {},
   "outputs": [
    {
     "data": {
      "text/plain": [
       "<snowflake.connector.cursor.SnowflakeCursor at 0x1e1e9e97970>"
      ]
     },
     "execution_count": 5,
     "metadata": {},
     "output_type": "execute_result"
    }
   ],
   "source": [
    "# Create Table Stock_fundamental \n",
    "cur.execute(\"CREATE OR REPLACE TABLE stock_fundamental(sf_id int PRIMARY KEY NOT NULL,stock_id int ,pe float,roce float,book_value int,roe float,sector varchar(20),industry varchar(30),dividend_yield float)\")"
   ]
  },
  {
   "cell_type": "code",
   "execution_count": 6,
   "id": "82e9ce84",
   "metadata": {},
   "outputs": [
    {
     "data": {
      "text/plain": [
       "<snowflake.connector.cursor.SnowflakeCursor at 0x1e1e9e97970>"
      ]
     },
     "execution_count": 6,
     "metadata": {},
     "output_type": "execute_result"
    }
   ],
   "source": [
    "# Create Table Shareholding_pattern \n",
    "cur.execute(\"CREATE OR REPLACE TABLE shareholding_pattern(sh_id int PRIMARY KEY NOT NULL,stock_id int ,quarter_year varchar(15),promotoer float,fiis float,diis float,government float,public float,other float)\")"
   ]
  },
  {
   "cell_type": "code",
   "execution_count": 7,
   "id": "6693b2b2",
   "metadata": {},
   "outputs": [
    {
     "data": {
      "text/plain": [
       "<snowflake.connector.cursor.SnowflakeCursor at 0x1e1e9e97970>"
      ]
     },
     "execution_count": 7,
     "metadata": {},
     "output_type": "execute_result"
    }
   ],
   "source": [
    "# Create Table Cash_flow \n",
    "cur.execute(\"CREATE OR REPLACE TABLE cash_flow(cf_id int PRIMARY KEY NOT NULL,stock_id int,year_month varchar(20),cash_from_operating_activity float,cash_from_investing_activity float,cash_from_financing_activity float,net_cash_flow float)\")"
   ]
  },
  {
   "cell_type": "code",
   "execution_count": 8,
   "id": "0374d716",
   "metadata": {},
   "outputs": [
    {
     "data": {
      "text/plain": [
       "<snowflake.connector.cursor.SnowflakeCursor at 0x1e1e9e97970>"
      ]
     },
     "execution_count": 8,
     "metadata": {},
     "output_type": "execute_result"
    }
   ],
   "source": [
    "# Create Table Quarterly_result \n",
    "cur.execute(\"CREATE OR REPLACE TABLE quarterly_result(qr_id int PRIMARY KEY NOT NULL,stock_id int,quarter_year varchar(20),sales float,expenses float,operating_profit float,opm float,other float,interest float,depreciation float,profit float,tax float,net float,eps float)\")"
   ]
  },
  {
   "cell_type": "code",
   "execution_count": 10,
   "id": "29632a19",
   "metadata": {},
   "outputs": [
    {
     "data": {
      "text/plain": [
       "<snowflake.connector.cursor.SnowflakeCursor at 0x1e1e9e97970>"
      ]
     },
     "execution_count": 10,
     "metadata": {},
     "output_type": "execute_result"
    }
   ],
   "source": [
    "# Create Table Balance_sheet \n",
    "cur.execute(\"CREATE OR REPLACE TABLE balance_sheet(bs_id int PRIMARY KEY NOT NULL,stock_id int,fin_month_year varchar(10),share_capital int,reserves float,borrowings float,other_liabilities float,total_liabilities float,fixed_assets float,cwip float,investments float,other_assets float,total_assets float)\")"
   ]
  }
 ],
 "metadata": {
  "kernelspec": {
   "display_name": "Python 3 (ipykernel)",
   "language": "python",
   "name": "python3"
  },
  "language_info": {
   "codemirror_mode": {
    "name": "ipython",
    "version": 3
   },
   "file_extension": ".py",
   "mimetype": "text/x-python",
   "name": "python",
   "nbconvert_exporter": "python",
   "pygments_lexer": "ipython3",
   "version": "3.9.13"
  }
 },
 "nbformat": 4,
 "nbformat_minor": 5
}
