{
 "cells": [
  {
   "cell_type": "markdown",
   "id": "71925aa0",
   "metadata": {},
   "source": [
    "# Install Snowflake Liabrary and connection check"
   ]
  },
  {
   "cell_type": "code",
   "execution_count": 1,
   "id": "1e26e9c7",
   "metadata": {},
   "outputs": [],
   "source": [
    "#!pip install snowflake-connector-python\n",
    "# import snowflake.connector\n",
    "\n",
    "# ctx = snowflake.connector.connect(\n",
    "#     user='PBVIRANI',\n",
    "#     password='Patel@8732',\n",
    "#     account='pd06844.ap-south-1.aws'\n",
    "#     )\n",
    "# cs = ctx.cursor()\n",
    "# try:\n",
    "#     cs.execute(\"SELECT current_version()\")\n",
    "#     one_row = cs.fetchone()\n",
    "#     print(one_row[0])\n",
    "# finally:\n",
    "#     cs.close()\n",
    "# ctx.close()"
   ]
  },
  {
   "cell_type": "markdown",
   "id": "544df867",
   "metadata": {},
   "source": [
    "# Python to Snowflake Connections"
   ]
  },
  {
   "cell_type": "code",
   "execution_count": 1,
   "id": "5f4c001e",
   "metadata": {},
   "outputs": [],
   "source": [
    "import pandas as pd\n",
    "\n",
    "# The Snowflake Connector library.\n",
    "import snowflake.connector as snow\n",
    "from snowflake.connector.pandas_tools import write_pandas\n",
    "\n",
    "import sqlalchemy as sql\n",
    "import pandas as pd\n",
    "import os\n",
    "\n",
    "conn = snow.connect(user=\"PBVIRANI\",\n",
    "   password=\"Patel@8732\",\n",
    "   account=\"pd06844.ap-south-1.aws\",\n",
    "   warehouse=\"DATALOADS\",\n",
    "   database=\"POC_DATASET\",\n",
    "   schema=\"POC_SCHEMA\")\n",
    "\n",
    "\n",
    "# Create a cursor object.\n",
    "cur = conn.cursor()"
   ]
  },
  {
   "cell_type": "markdown",
   "id": "5a46272a",
   "metadata": {},
   "source": [
    "# Data Lake Tables"
   ]
  },
  {
   "cell_type": "code",
   "execution_count": 19,
   "id": "21b8e7a6",
   "metadata": {},
   "outputs": [
    {
     "data": {
      "text/plain": [
       "<snowflake.connector.cursor.SnowflakeCursor at 0x23f6a2148e0>"
      ]
     },
     "execution_count": 19,
     "metadata": {},
     "output_type": "execute_result"
    }
   ],
   "source": [
    "# Create Table Stock_Spec\n",
    "cur.execute(\"CREATE OR REPLACE TABLE stock_spec(stock_id int identity(1,1) PRIMARY KEY,name varchar(50) not null,exchange varchar(5) not null,exchange_type varchar(10) not null,scripcode varchar(20) not null,symbol varchar(30) not null,full_refresh int not null,candle_duration varchar(30),created_datetime datetime,createdby varchar(50) not null,lastmodified_datetime datetime not null,lastmodifiedby varchar(50))\")"
   ]
  },
  {
   "cell_type": "code",
   "execution_count": 43,
   "id": "d3d59f66",
   "metadata": {},
   "outputs": [
    {
     "data": {
      "text/plain": [
       "<snowflake.connector.cursor.SnowflakeCursor at 0x24a37044850>"
      ]
     },
     "execution_count": 43,
     "metadata": {},
     "output_type": "execute_result"
    }
   ],
   "source": [
    "# Create Table Batches\n",
    "cur.execute(\"CREATE OR REPLACE TABLE batches(batch_id int identity(1,1) PRIMARY KEY NOT NULL,stock_id int FOREIGN KEY REFERENCES stock_spec(stock_id),run_type varchar(30) not null,flow_name varchar(200) not null,run_date date not null,run_start_time datetime not null,run_end_time datetime not null)\")"
   ]
  },
  {
   "cell_type": "code",
   "execution_count": 44,
   "id": "36c3e332",
   "metadata": {},
   "outputs": [
    {
     "data": {
      "text/plain": [
       "<snowflake.connector.cursor.SnowflakeCursor at 0x24a37044850>"
      ]
     },
     "execution_count": 44,
     "metadata": {},
     "output_type": "execute_result"
    }
   ],
   "source": [
    "# Create Table Webscrap_keys\n",
    "cur.execute(\"CREATE OR REPLACE TABLE webscrap_keys(key_id int identity(1,1) PRIMARY KEY NOT NULL,key varchar(20) NOT NULL,table_name varchar(20) NOT NULL,column_name varchar(20) NOT NULL,stock_id int not null,description varchar(200) NOT NULL)\")"
   ]
  },
  {
   "cell_type": "markdown",
   "id": "f0ccec2a",
   "metadata": {},
   "source": [
    "# Data Lake Price Action Table"
   ]
  },
  {
   "cell_type": "code",
   "execution_count": 26,
   "id": "b336019a",
   "metadata": {},
   "outputs": [
    {
     "data": {
      "text/plain": [
       "<snowflake.connector.cursor.SnowflakeCursor at 0x23f6a2148e0>"
      ]
     },
     "execution_count": 26,
     "metadata": {},
     "output_type": "execute_result"
    }
   ],
   "source": [
    "# Create Table stock_price_action\n",
    "cur.execute(\"CREATE OR REPLACE TABLE stock_price_action(stp_id int identity(1,1) PRIMARY KEY NOT NULL,stock_id int,stock_name varchar(50),stock_symbol varchar(30),traded_datetime varchar(20),open varchar(20),high varchar(20),low varchar(20),close varchar(20),volume varchar(20),candle_duration varchar(10))\")"
   ]
  },
  {
   "cell_type": "markdown",
   "id": "bbdd2d48",
   "metadata": {},
   "source": [
    "# Data Lake Stock Fundamentals & Financials Tables"
   ]
  },
  {
   "cell_type": "code",
   "execution_count": 4,
   "id": "584f0214",
   "metadata": {},
   "outputs": [
    {
     "data": {
      "text/plain": [
       "<snowflake.connector.cursor.SnowflakeCursor at 0x23f6a2148e0>"
      ]
     },
     "execution_count": 4,
     "metadata": {},
     "output_type": "execute_result"
    }
   ],
   "source": [
    "# Create Table Stock_fundamental \n",
    "cur.execute(\"CREATE OR REPLACE TABLE stock_fundamental(sf_id int identity(1,1) PRIMARY KEY NOT NULL,stock_id int,stock_name varchar(50),stock_symbol varchar(30),pe float,roce float,book_value int,roe float,sector varchar(20),industry varchar(30),dividend_yield float)\")"
   ]
  },
  {
   "cell_type": "code",
   "execution_count": 7,
   "id": "48511adb",
   "metadata": {},
   "outputs": [
    {
     "data": {
      "text/plain": [
       "<snowflake.connector.cursor.SnowflakeCursor at 0x23f6a2148e0>"
      ]
     },
     "execution_count": 7,
     "metadata": {},
     "output_type": "execute_result"
    }
   ],
   "source": [
    "# Create Table Shareholding_pattern \n",
    "cur.execute(\"CREATE OR REPLACE TABLE shareholding_pattern(sh_id int identity(1,1) PRIMARY KEY NOT NULL,stock_id int,stock_name varchar(50),stock_symbol varchar(30),quarter_year varchar(15),promotoer float,fiis float,diis float,government float,public float,other float)\")"
   ]
  },
  {
   "cell_type": "code",
   "execution_count": 13,
   "id": "b3359e8a",
   "metadata": {},
   "outputs": [
    {
     "data": {
      "text/plain": [
       "<snowflake.connector.cursor.SnowflakeCursor at 0x23f6a2148e0>"
      ]
     },
     "execution_count": 13,
     "metadata": {},
     "output_type": "execute_result"
    }
   ],
   "source": [
    "# Create Table Cash_flow \n",
    "cur.execute(\"CREATE OR REPLACE TABLE cash_flow(cf_id int identity(1,1) PRIMARY KEY NOT NULL,stock_id int,stock_name varchar(50),stock_symbol varchar(30),year_month varchar(20),cash_from_operating_activity varchar(20),cash_from_investing_activity varchar(20),cash_from_financing_activity varchar(20),net_cash_flow varchar(20))\")"
   ]
  },
  {
   "cell_type": "code",
   "execution_count": 14,
   "id": "619a447b",
   "metadata": {},
   "outputs": [
    {
     "data": {
      "text/plain": [
       "<snowflake.connector.cursor.SnowflakeCursor at 0x23f6a2148e0>"
      ]
     },
     "execution_count": 14,
     "metadata": {},
     "output_type": "execute_result"
    }
   ],
   "source": [
    "# Create Table Quarterly_result \n",
    "cur.execute(\"CREATE OR REPLACE TABLE quarterly_result(qr_id int identity(1,1) PRIMARY KEY NOT NULL,stock_id int,stock_name varchar(50),stock_symbol varchar(30),quarter_year varchar(20),sales varchar(20),expenses varchar(20),operating_profit varchar(20),opm varchar(20),other varchar(20),interest varchar(20),depreciation varchar(20),profit varchar(20),tax varchar(20),net varchar(20),eps varchar(20))\")"
   ]
  },
  {
   "cell_type": "code",
   "execution_count": 27,
   "id": "5c691e83",
   "metadata": {},
   "outputs": [
    {
     "data": {
      "text/plain": [
       "<snowflake.connector.cursor.SnowflakeCursor at 0x23f6a2148e0>"
      ]
     },
     "execution_count": 27,
     "metadata": {},
     "output_type": "execute_result"
    }
   ],
   "source": [
    "# Create Table Balance_sheet \n",
    "cur.execute(\"CREATE OR REPLACE TABLE balance_sheet(bs_id int identity(1,1) PRIMARY KEY NOT NULL,stock_id int,stock_name varchar(50),stock_symbol varchar(30),fin_month_year varchar(10),share_capital varchar(20),reserves varchar(20),borrowings varchar(20),other_liabilities varchar(20),total_liabilities varchar(20),fixed_assets varchar(20),cwip varchar(20),investments varchar(20),other_assets varchar(20),total_assets varchar(20))\")"
   ]
  }
 ],
 "metadata": {
  "kernelspec": {
   "display_name": "Python 3 (ipykernel)",
   "language": "python",
   "name": "python3"
  },
  "language_info": {
   "codemirror_mode": {
    "name": "ipython",
    "version": 3
   },
   "file_extension": ".py",
   "mimetype": "text/x-python",
   "name": "python",
   "nbconvert_exporter": "python",
   "pygments_lexer": "ipython3",
   "version": "3.9.13"
  }
 },
 "nbformat": 4,
 "nbformat_minor": 5
}
