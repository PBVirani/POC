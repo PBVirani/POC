{
 "cells": [
  {
   "cell_type": "markdown",
   "id": "087a2a62",
   "metadata": {},
   "source": [
    "# Import Library"
   ]
  },
  {
   "cell_type": "code",
   "execution_count": 32,
   "id": "2540e782",
   "metadata": {},
   "outputs": [],
   "source": [
    "import pandas as pd\n",
    "\n",
    "import snowflake.connector as snow\n",
    "from snowflake.connector.pandas_tools import write_pandas\n",
    "\n",
    "import sqlalchemy as sql\n",
    "import os\n",
    "import datetime\n"
   ]
  },
  {
   "cell_type": "markdown",
   "id": "60c69b64",
   "metadata": {},
   "source": [
    "# Connection With Snowflake"
   ]
  },
  {
   "cell_type": "code",
   "execution_count": 2,
   "id": "69f74bf8",
   "metadata": {},
   "outputs": [],
   "source": [
    "conn = snow.connect(user=\"PBVIRANI\",\n",
    "   password=\"Patel@8732\",\n",
    "   account=\"pd06844.ap-south-1.aws\",\n",
    "   warehouse=\"DATALOADS\",\n",
    "   database=\"POC_DATASET\",\n",
    "   schema=\"POC_SCHEMA\")\n",
    "\n",
    "\n",
    "# Create a cursor object.\n",
    "cur = conn.cursor()\n"
   ]
  },
  {
   "cell_type": "markdown",
   "id": "8a1604ed",
   "metadata": {},
   "source": [
    "# Import Excel file and Fetch Data"
   ]
  },
  {
   "cell_type": "code",
   "execution_count": 4,
   "id": "e0419b45",
   "metadata": {},
   "outputs": [
    {
     "data": {
      "text/html": [
       "<div>\n",
       "<style scoped>\n",
       "    .dataframe tbody tr th:only-of-type {\n",
       "        vertical-align: middle;\n",
       "    }\n",
       "\n",
       "    .dataframe tbody tr th {\n",
       "        vertical-align: top;\n",
       "    }\n",
       "\n",
       "    .dataframe thead th {\n",
       "        text-align: right;\n",
       "    }\n",
       "</style>\n",
       "<table border=\"1\" class=\"dataframe\">\n",
       "  <thead>\n",
       "    <tr style=\"text-align: right;\">\n",
       "      <th></th>\n",
       "      <th>Company</th>\n",
       "      <th>Exch</th>\n",
       "      <th>ExchType</th>\n",
       "      <th>Scripcode</th>\n",
       "    </tr>\n",
       "  </thead>\n",
       "  <tbody>\n",
       "    <tr>\n",
       "      <th>0</th>\n",
       "      <td>TCS</td>\n",
       "      <td>N</td>\n",
       "      <td>C</td>\n",
       "      <td>11536</td>\n",
       "    </tr>\n",
       "    <tr>\n",
       "      <th>1</th>\n",
       "      <td>HCLTECH</td>\n",
       "      <td>N</td>\n",
       "      <td>C</td>\n",
       "      <td>7229</td>\n",
       "    </tr>\n",
       "    <tr>\n",
       "      <th>2</th>\n",
       "      <td>WIPRO</td>\n",
       "      <td>N</td>\n",
       "      <td>C</td>\n",
       "      <td>3787</td>\n",
       "    </tr>\n",
       "    <tr>\n",
       "      <th>3</th>\n",
       "      <td>LTIM</td>\n",
       "      <td>N</td>\n",
       "      <td>C</td>\n",
       "      <td>17818</td>\n",
       "    </tr>\n",
       "    <tr>\n",
       "      <th>4</th>\n",
       "      <td>TATASTEEL</td>\n",
       "      <td>N</td>\n",
       "      <td>C</td>\n",
       "      <td>3499</td>\n",
       "    </tr>\n",
       "    <tr>\n",
       "      <th>5</th>\n",
       "      <td>JSWSTEEL</td>\n",
       "      <td>N</td>\n",
       "      <td>C</td>\n",
       "      <td>11723</td>\n",
       "    </tr>\n",
       "    <tr>\n",
       "      <th>6</th>\n",
       "      <td>APLAPOLLO</td>\n",
       "      <td>N</td>\n",
       "      <td>C</td>\n",
       "      <td>25780</td>\n",
       "    </tr>\n",
       "    <tr>\n",
       "      <th>7</th>\n",
       "      <td>TATAMOTORS</td>\n",
       "      <td>N</td>\n",
       "      <td>C</td>\n",
       "      <td>3456</td>\n",
       "    </tr>\n",
       "    <tr>\n",
       "      <th>8</th>\n",
       "      <td>FORCEMOT</td>\n",
       "      <td>N</td>\n",
       "      <td>C</td>\n",
       "      <td>11573</td>\n",
       "    </tr>\n",
       "    <tr>\n",
       "      <th>9</th>\n",
       "      <td>RELIANCE</td>\n",
       "      <td>N</td>\n",
       "      <td>C</td>\n",
       "      <td>2885</td>\n",
       "    </tr>\n",
       "    <tr>\n",
       "      <th>10</th>\n",
       "      <td>INFY</td>\n",
       "      <td>N</td>\n",
       "      <td>C</td>\n",
       "      <td>1594</td>\n",
       "    </tr>\n",
       "  </tbody>\n",
       "</table>\n",
       "</div>"
      ],
      "text/plain": [
       "       Company Exch ExchType  Scripcode\n",
       "0          TCS    N        C      11536\n",
       "1      HCLTECH    N        C       7229\n",
       "2        WIPRO    N        C       3787\n",
       "3         LTIM    N        C      17818\n",
       "4    TATASTEEL    N        C       3499\n",
       "5     JSWSTEEL    N        C      11723\n",
       "6    APLAPOLLO    N        C      25780\n",
       "7   TATAMOTORS    N        C       3456\n",
       "8     FORCEMOT    N        C      11573\n",
       "9     RELIANCE    N        C       2885\n",
       "10        INFY    N        C       1594"
      ]
     },
     "execution_count": 4,
     "metadata": {},
     "output_type": "execute_result"
    }
   ],
   "source": [
    "df = pd.read_excel('company.xlsx')\n",
    "df"
   ]
  },
  {
   "cell_type": "code",
   "execution_count": 6,
   "id": "3c66996b",
   "metadata": {},
   "outputs": [
    {
     "data": {
      "text/plain": [
       "[(1, 'Tata Consultancy Services Ltd', 'TCS'),\n",
       " (2, 'HCL Technologies Ltd', 'HCLTECH'),\n",
       " (3, 'Wipro Ltd', 'WIPRO'),\n",
       " (4, 'LTI Mindtree Ltd', 'LTIM'),\n",
       " (5, 'Tata Steel Ltd', 'TATASTEEL'),\n",
       " (6, 'JSW Steel Ltd', 'JSWSTEEL'),\n",
       " (7, 'APL Apollo Tubes Ltd', 'APLAPOLLO'),\n",
       " (8, 'Tata Motors Ltd', 'TATAMOTORS'),\n",
       " (9, 'Force Motors Ltd', 'FORCEMOT'),\n",
       " (10, 'Reliance Industries Ltd', 'RELIANCE'),\n",
       " (11, 'Infosys Ltd', 'INFY')]"
      ]
     },
     "execution_count": 6,
     "metadata": {},
     "output_type": "execute_result"
    }
   ],
   "source": [
    "cur.execute(\"SELECT stock_id,stock_name,stock_symbol FROM stock_fundamental\")\n",
    "one_row = cur.fetchall()\n",
    "one_row"
   ]
  },
  {
   "cell_type": "markdown",
   "id": "b5a82b56",
   "metadata": {},
   "source": [
    "# Insert Data in Table"
   ]
  },
  {
   "cell_type": "code",
   "execution_count": 40,
   "id": "01829b53",
   "metadata": {},
   "outputs": [
    {
     "name": "stdout",
     "output_type": "stream",
     "text": [
      "Tata Consultancy Services Ltd   N\n",
      "HCL Technologies Ltd   N\n",
      "Wipro Ltd   N\n",
      "LTI Mindtree Ltd   N\n",
      "Tata Steel Ltd   N\n",
      "JSW Steel Ltd   N\n",
      "APL Apollo Tubes Ltd   N\n",
      "Tata Motors Ltd   N\n",
      "Force Motors Ltd   N\n",
      "Reliance Industries Ltd   N\n",
      "Infosys Ltd   N\n"
     ]
    }
   ],
   "source": [
    "for i in range(0,len(df['Company'])):\n",
    "    cur.execute(\"SELECT stock_id,stock_name,stock_symbol FROM stock_fundamental where stock_symbol = '\" + df['Company'][i] + \"'\")\n",
    "    one_row = cur.fetchall()\n",
    "    print(one_row[0][1] , \" \" , df['Exch'][i]) \n",
    "    cur.execute(\"INSERT INTO stock_spec(name,exchange,exchange_type,scripcode,symbol,full_refresh,candle_duration,created_datetime,createdby,lastmodified_datetime,lastmodifiedby) VALUES('\"+str(one_row[0][1])+\"','\"+str(df['Exch'][i])+\"','\"+str(df['ExchType'][i])+\"','\"+str(df['Scripcode'][i])+\"','\"+str(one_row[0][2])+\"',0,'5 Min','\"+str(datetime.datetime.now())+\"','Prince Virani','\"+str(datetime.datetime.now())+\"','Prince Virani')\")"
   ]
  }
 ],
 "metadata": {
  "kernelspec": {
   "display_name": "Python 3 (ipykernel)",
   "language": "python",
   "name": "python3"
  },
  "language_info": {
   "codemirror_mode": {
    "name": "ipython",
    "version": 3
   },
   "file_extension": ".py",
   "mimetype": "text/x-python",
   "name": "python",
   "nbconvert_exporter": "python",
   "pygments_lexer": "ipython3",
   "version": "3.9.13"
  }
 },
 "nbformat": 4,
 "nbformat_minor": 5
}
