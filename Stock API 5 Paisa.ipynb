{
 "cells": [
  {
   "cell_type": "markdown",
   "id": "ebf9de41",
   "metadata": {},
   "source": [
    "## Import Required Libraries "
   ]
  },
  {
   "cell_type": "code",
   "execution_count": 19,
   "id": "f5ba353a",
   "metadata": {},
   "outputs": [],
   "source": [
    "from py5paisa import FivePaisaClient\n",
    "from datetime import datetime\n",
    "import pandas as pd\n",
    "\n",
    "# The Snowflake Connector library.\n",
    "import snowflake.connector as snow\n",
    "from snowflake.connector.pandas_tools import write_pandas\n",
    "\n",
    "import sqlalchemy as sql\n",
    "import pandas as pd\n",
    "import os"
   ]
  },
  {
   "cell_type": "markdown",
   "id": "c1b5a5e0",
   "metadata": {},
   "source": [
    "## Connection with API (5Paisa)"
   ]
  },
  {
   "cell_type": "code",
   "execution_count": 10,
   "id": "f2320462",
   "metadata": {},
   "outputs": [
    {
     "name": "stdout",
     "output_type": "stream",
     "text": [
      " 16:45:19 | Logged in!!\n"
     ]
    }
   ],
   "source": [
    "cred={\n",
    "    \"APP_NAME\":\"5P50638865\",\n",
    "    \"APP_SOURCE\":\"14631\",\n",
    "    \"USER_ID\":\"nTg7U2MLJBz\",\n",
    "    \"PASSWORD\":\"HVcUF6pmnaP\",\n",
    "    \"USER_KEY\":\"2r8NemDsEugdECbwqwWBxU8nlI46ecY4\",\n",
    "    \"ENCRYPTION_KEY\":\"ZNHV4v5KzyUpoVnNjnJvACCwYcLjiAoi\"\n",
    "    }\n",
    "\n",
    "email=\"meet.150410107036@gmail.com\"\n",
    "password =\"Meet@94094\"\n",
    "dob =\"19970903\"\n",
    "client = FivePaisaClient(email=email, passwd=password, dob=dob,cred=cred)\n",
    "client.login()"
   ]
  },
  {
   "cell_type": "markdown",
   "id": "a540c3f0",
   "metadata": {},
   "source": [
    "## Connection with snowflake"
   ]
  },
  {
   "cell_type": "code",
   "execution_count": 11,
   "id": "f9d8ba9f",
   "metadata": {},
   "outputs": [],
   "source": [
    "conn = snow.connect(user=\"PBVIRANI\",\n",
    "   password=\"Patel@8732\",\n",
    "   account=\"pd06844.ap-south-1.aws\",\n",
    "   warehouse=\"DATALOADS\",\n",
    "   database=\"POC_DATASET\",\n",
    "   schema=\"POC_SCHEMA\")\n",
    "\n",
    "\n",
    "# Create a cursor object.\n",
    "cur = conn.cursor()"
   ]
  },
  {
   "cell_type": "code",
   "execution_count": 76,
   "id": "f6d2fdcf",
   "metadata": {},
   "outputs": [
    {
     "ename": "SyntaxError",
     "evalue": "invalid syntax (3189014722.py, line 8)",
     "output_type": "error",
     "traceback": [
      "\u001b[1;36m  File \u001b[1;32m\"C:\\Users\\Prince Virani\\AppData\\Local\\Temp\\ipykernel_13480\\3189014722.py\"\u001b[1;36m, line \u001b[1;32m8\u001b[0m\n\u001b[1;33m    cur.execute(\"INSERT INTO stock_price_action(stock_id,stock_name,stock_symbol,traded_datetime,open,high,low,close,volume,candle_duration) VALUES(\"+str(row[0][0])+\",'\"+str(row[0][1])+\"','\"+str(row[0][2])+\"','\"+str(df['Datetime'][i])+\"','\"+str(df['Open'][i])+\"','\"+str(df['High'][i])+\"','\"str(df['Low'][i])\"','\"+str(df['Close'][i])+\"','\"+str(df['Volume'][i])+\"','5 Min')\")\u001b[0m\n\u001b[1;37m                                                                                                                                                                                                                                                                                                  ^\u001b[0m\n\u001b[1;31mSyntaxError\u001b[0m\u001b[1;31m:\u001b[0m invalid syntax\n"
     ]
    }
   ],
   "source": [
    "cur.execute(\"SELECT stock_id,name,symbol,scripcode FROM stock_spec where stock_id =1\")\n",
    "row = cur.fetchall()\n",
    "row\n",
    "df=client.historical_data('N','C',row[0][3],'5m',date.today(),date.today())\n",
    "#cur.execute(\"INSERT INTO stock_price_action(stock_id,stock_name,stock_symbol,traded_datetime,open,high,low,close,volume,candle_duration) VALUES(\"+str(row[0][0])+\",'\"+str(row[0][1])+\"','\"+str(row[0][2])+\"','\"+str(df['Datetime'][i])+\"',20.2,210.2,50.5,5.2,5054,'5 Min')\")\n",
    "for i in range(0,len(df['Datetime'])):\n",
    "#     #print(i)\n",
    "     cur.execute(\"INSERT INTO stock_price_action(stock_id,stock_name,stock_symbol,traded_datetime,open,high,low,close,volume,candle_duration) VALUES(\"+str(row[0][0])+\",'\"+str(row[0][1])+\"','\"+str(row[0][2])+\"','\"+str(df['Datetime'][i])+\"','\"+str(df['Open'][i])+\"','\"+str(df['High'][i])+\"','\"str(df['Low'][i])\"','\"+str(df['Close'][i])+\"','\"+str(df['Volume'][i])+\"','5 Min')\")"
   ]
  },
  {
   "cell_type": "code",
   "execution_count": null,
   "id": "cb27a0bd",
   "metadata": {},
   "outputs": [],
   "source": [
    "# for i in range(0,len(df['Datetime'])):\n",
    "# #     #print(i)\n",
    "#      cur.execute(\"INSERT INTO stock_price_action(stock_id,stock_name,stock_symbol,traded_datetime,open,high,low,close,volume,candle_duration) VALUES(\"+str(row[0][0])+\",'\"+str(row[0][1])+\"','\"+str(row[0][2])+\"','\"+str(df['Datetime'][i])+\"',\"+str(df['Open'][i])+\",\"+str(df['High'][i])+\",\"str(df['Low'][i])\",\"+str(df['Close'][i])+\",\"+str(df['Volume'][i])+\",'5 Min')\")"
   ]
  },
  {
   "cell_type": "code",
   "execution_count": 71,
   "id": "6cf80a07",
   "metadata": {},
   "outputs": [
    {
     "data": {
      "text/html": [
       "<div>\n",
       "<style scoped>\n",
       "    .dataframe tbody tr th:only-of-type {\n",
       "        vertical-align: middle;\n",
       "    }\n",
       "\n",
       "    .dataframe tbody tr th {\n",
       "        vertical-align: top;\n",
       "    }\n",
       "\n",
       "    .dataframe thead th {\n",
       "        text-align: right;\n",
       "    }\n",
       "</style>\n",
       "<table border=\"1\" class=\"dataframe\">\n",
       "  <thead>\n",
       "    <tr style=\"text-align: right;\">\n",
       "      <th></th>\n",
       "      <th>Datetime</th>\n",
       "      <th>Open</th>\n",
       "      <th>High</th>\n",
       "      <th>Low</th>\n",
       "      <th>Close</th>\n",
       "      <th>Volume</th>\n",
       "    </tr>\n",
       "  </thead>\n",
       "  <tbody>\n",
       "    <tr>\n",
       "      <th>0</th>\n",
       "      <td>2023-02-28T09:15:00</td>\n",
       "      <td>3331.00</td>\n",
       "      <td>3349.00</td>\n",
       "      <td>3328.50</td>\n",
       "      <td>3347.80</td>\n",
       "      <td>107189</td>\n",
       "    </tr>\n",
       "    <tr>\n",
       "      <th>1</th>\n",
       "      <td>2023-02-28T09:20:00</td>\n",
       "      <td>3347.80</td>\n",
       "      <td>3358.25</td>\n",
       "      <td>3345.00</td>\n",
       "      <td>3349.85</td>\n",
       "      <td>53913</td>\n",
       "    </tr>\n",
       "    <tr>\n",
       "      <th>2</th>\n",
       "      <td>2023-02-28T09:25:00</td>\n",
       "      <td>3350.00</td>\n",
       "      <td>3364.00</td>\n",
       "      <td>3349.00</td>\n",
       "      <td>3364.00</td>\n",
       "      <td>32217</td>\n",
       "    </tr>\n",
       "    <tr>\n",
       "      <th>3</th>\n",
       "      <td>2023-02-28T09:30:00</td>\n",
       "      <td>3363.90</td>\n",
       "      <td>3378.30</td>\n",
       "      <td>3363.70</td>\n",
       "      <td>3376.10</td>\n",
       "      <td>64949</td>\n",
       "    </tr>\n",
       "    <tr>\n",
       "      <th>4</th>\n",
       "      <td>2023-02-28T09:35:00</td>\n",
       "      <td>3373.05</td>\n",
       "      <td>3385.95</td>\n",
       "      <td>3373.05</td>\n",
       "      <td>3379.50</td>\n",
       "      <td>81485</td>\n",
       "    </tr>\n",
       "    <tr>\n",
       "      <th>...</th>\n",
       "      <td>...</td>\n",
       "      <td>...</td>\n",
       "      <td>...</td>\n",
       "      <td>...</td>\n",
       "      <td>...</td>\n",
       "      <td>...</td>\n",
       "    </tr>\n",
       "    <tr>\n",
       "      <th>70</th>\n",
       "      <td>2023-02-28T15:05:00</td>\n",
       "      <td>3301.55</td>\n",
       "      <td>3306.05</td>\n",
       "      <td>3299.90</td>\n",
       "      <td>3304.65</td>\n",
       "      <td>329844</td>\n",
       "    </tr>\n",
       "    <tr>\n",
       "      <th>71</th>\n",
       "      <td>2023-02-28T15:10:00</td>\n",
       "      <td>3304.65</td>\n",
       "      <td>3322.25</td>\n",
       "      <td>3304.60</td>\n",
       "      <td>3322.15</td>\n",
       "      <td>486153</td>\n",
       "    </tr>\n",
       "    <tr>\n",
       "      <th>72</th>\n",
       "      <td>2023-02-28T15:15:00</td>\n",
       "      <td>3322.30</td>\n",
       "      <td>3323.60</td>\n",
       "      <td>3311.60</td>\n",
       "      <td>3311.60</td>\n",
       "      <td>498060</td>\n",
       "    </tr>\n",
       "    <tr>\n",
       "      <th>73</th>\n",
       "      <td>2023-02-28T15:20:00</td>\n",
       "      <td>3312.60</td>\n",
       "      <td>3316.65</td>\n",
       "      <td>3306.95</td>\n",
       "      <td>3316.25</td>\n",
       "      <td>458453</td>\n",
       "    </tr>\n",
       "    <tr>\n",
       "      <th>74</th>\n",
       "      <td>2023-02-28T15:25:00</td>\n",
       "      <td>3316.35</td>\n",
       "      <td>3330.55</td>\n",
       "      <td>3312.05</td>\n",
       "      <td>3328.60</td>\n",
       "      <td>222105</td>\n",
       "    </tr>\n",
       "  </tbody>\n",
       "</table>\n",
       "<p>75 rows × 6 columns</p>\n",
       "</div>"
      ],
      "text/plain": [
       "               Datetime     Open     High      Low    Close  Volume\n",
       "0   2023-02-28T09:15:00  3331.00  3349.00  3328.50  3347.80  107189\n",
       "1   2023-02-28T09:20:00  3347.80  3358.25  3345.00  3349.85   53913\n",
       "2   2023-02-28T09:25:00  3350.00  3364.00  3349.00  3364.00   32217\n",
       "3   2023-02-28T09:30:00  3363.90  3378.30  3363.70  3376.10   64949\n",
       "4   2023-02-28T09:35:00  3373.05  3385.95  3373.05  3379.50   81485\n",
       "..                  ...      ...      ...      ...      ...     ...\n",
       "70  2023-02-28T15:05:00  3301.55  3306.05  3299.90  3304.65  329844\n",
       "71  2023-02-28T15:10:00  3304.65  3322.25  3304.60  3322.15  486153\n",
       "72  2023-02-28T15:15:00  3322.30  3323.60  3311.60  3311.60  498060\n",
       "73  2023-02-28T15:20:00  3312.60  3316.65  3306.95  3316.25  458453\n",
       "74  2023-02-28T15:25:00  3316.35  3330.55  3312.05  3328.60  222105\n",
       "\n",
       "[75 rows x 6 columns]"
      ]
     },
     "execution_count": 71,
     "metadata": {},
     "output_type": "execute_result"
    }
   ],
   "source": [
    "# df=client.historical_data('N','C',1660,'1m',date.today(),date.today())\n",
    "df"
   ]
  },
  {
   "cell_type": "code",
   "execution_count": 24,
   "id": "a28f5857",
   "metadata": {},
   "outputs": [
    {
     "name": "stdout",
     "output_type": "stream",
     "text": [
      "382.55\n",
      "382.1\n",
      "381.45\n",
      "381.1\n",
      "381.7\n",
      "382.4\n",
      "383.2\n",
      "383.8\n",
      "383.55\n",
      "383.15\n",
      "383.4\n",
      "383.5\n",
      "383.95\n",
      "383.65\n",
      "384.0\n",
      "383.85\n",
      "383.85\n",
      "383.55\n",
      "383.3\n",
      "382.85\n",
      "382.55\n",
      "382.2\n",
      "382.05\n",
      "382.15\n",
      "381.3\n",
      "381.6\n",
      "381.25\n",
      "381.2\n",
      "381.2\n",
      "381.4\n",
      "381.1\n",
      "381.35\n",
      "381.1\n",
      "381.1\n",
      "381.0\n",
      "380.85\n",
      "380.8\n",
      "381.05\n",
      "381.15\n",
      "380.9\n",
      "380.7\n",
      "380.15\n",
      "380.0\n",
      "380.3\n",
      "380.7\n",
      "380.7\n",
      "380.9\n",
      "380.3\n",
      "380.25\n",
      "380.1\n",
      "380.15\n",
      "380.15\n",
      "379.6\n",
      "379.4\n",
      "379.2\n",
      "379.0\n",
      "378.65\n",
      "378.45\n",
      "378.5\n",
      "378.45\n",
      "378.75\n",
      "378.7\n",
      "378.6\n",
      "378.45\n",
      "378.3\n",
      "378.4\n",
      "378.3\n",
      "378.35\n",
      "378.5\n",
      "378.75\n",
      "378.6\n",
      "379.0\n",
      "379.15\n",
      "379.0\n",
      "379.3\n",
      "379.25\n",
      "378.9\n",
      "378.95\n",
      "378.5\n",
      "378.65\n",
      "378.4\n",
      "378.6\n",
      "378.5\n",
      "378.45\n",
      "378.1\n",
      "377.7\n",
      "377.2\n",
      "377.4\n",
      "377.3\n",
      "377.25\n",
      "376.8\n",
      "376.8\n",
      "376.3\n",
      "376.2\n",
      "376.2\n",
      "376.5\n",
      "376.65\n",
      "377.0\n",
      "376.95\n",
      "376.9\n",
      "377.0\n",
      "377.25\n",
      "377.25\n",
      "377.55\n",
      "377.3\n",
      "377.3\n",
      "377.05\n",
      "377.2\n",
      "376.85\n",
      "376.95\n",
      "376.8\n",
      "376.6\n",
      "376.75\n",
      "377.1\n",
      "377.1\n",
      "377.0\n"
     ]
    }
   ],
   "source": [
    "#df=client.historical_data('N','C',1660,'1m',date.today(),date.today())\n",
    "for i in range(0,len(df['Datetime'])):\n",
    "    print(df['Open'][i])"
   ]
  },
  {
   "cell_type": "code",
   "execution_count": 22,
   "id": "1f0c3551",
   "metadata": {},
   "outputs": [],
   "source": [
    "df.to_csv('demo.csv')"
   ]
  },
  {
   "cell_type": "code",
   "execution_count": 66,
   "id": "f6d5efda",
   "metadata": {},
   "outputs": [],
   "source": [
    "df = df.values.tolist()"
   ]
  },
  {
   "cell_type": "code",
   "execution_count": 61,
   "id": "9ed5763f",
   "metadata": {},
   "outputs": [],
   "source": [
    "from datetime import datetime\n",
    "from datetime import timedelta\n",
    "final_time = datetime.strptime(df[1][0], \"%Y-%m-%d %H:%M:%S\") + timedelta(minutes=1)"
   ]
  },
  {
   "cell_type": "code",
   "execution_count": 38,
   "id": "57ad049a",
   "metadata": {},
   "outputs": [
    {
     "name": "stdout",
     "output_type": "stream",
     "text": [
      "Enter Time : 758\n"
     ]
    },
    {
     "ename": "KeyError",
     "evalue": "0",
     "output_type": "error",
     "traceback": [
      "\u001b[1;31m---------------------------------------------------------------------------\u001b[0m",
      "\u001b[1;31mKeyError\u001b[0m                                  Traceback (most recent call last)",
      "\u001b[1;32m~\\anaconda3\\lib\\site-packages\\pandas\\core\\indexes\\base.py\u001b[0m in \u001b[0;36mget_loc\u001b[1;34m(self, key, method, tolerance)\u001b[0m\n\u001b[0;32m   3628\u001b[0m             \u001b[1;32mtry\u001b[0m\u001b[1;33m:\u001b[0m\u001b[1;33m\u001b[0m\u001b[1;33m\u001b[0m\u001b[0m\n\u001b[1;32m-> 3629\u001b[1;33m                 \u001b[1;32mreturn\u001b[0m \u001b[0mself\u001b[0m\u001b[1;33m.\u001b[0m\u001b[0m_engine\u001b[0m\u001b[1;33m.\u001b[0m\u001b[0mget_loc\u001b[0m\u001b[1;33m(\u001b[0m\u001b[0mcasted_key\u001b[0m\u001b[1;33m)\u001b[0m\u001b[1;33m\u001b[0m\u001b[1;33m\u001b[0m\u001b[0m\n\u001b[0m\u001b[0;32m   3630\u001b[0m             \u001b[1;32mexcept\u001b[0m \u001b[0mKeyError\u001b[0m \u001b[1;32mas\u001b[0m \u001b[0merr\u001b[0m\u001b[1;33m:\u001b[0m\u001b[1;33m\u001b[0m\u001b[1;33m\u001b[0m\u001b[0m\n",
      "\u001b[1;32m~\\anaconda3\\lib\\site-packages\\pandas\\_libs\\index.pyx\u001b[0m in \u001b[0;36mpandas._libs.index.IndexEngine.get_loc\u001b[1;34m()\u001b[0m\n",
      "\u001b[1;32m~\\anaconda3\\lib\\site-packages\\pandas\\_libs\\index.pyx\u001b[0m in \u001b[0;36mpandas._libs.index.IndexEngine.get_loc\u001b[1;34m()\u001b[0m\n",
      "\u001b[1;32mpandas\\_libs\\hashtable_class_helper.pxi\u001b[0m in \u001b[0;36mpandas._libs.hashtable.PyObjectHashTable.get_item\u001b[1;34m()\u001b[0m\n",
      "\u001b[1;32mpandas\\_libs\\hashtable_class_helper.pxi\u001b[0m in \u001b[0;36mpandas._libs.hashtable.PyObjectHashTable.get_item\u001b[1;34m()\u001b[0m\n",
      "\u001b[1;31mKeyError\u001b[0m: 0",
      "\nThe above exception was the direct cause of the following exception:\n",
      "\u001b[1;31mKeyError\u001b[0m                                  Traceback (most recent call last)",
      "\u001b[1;32m~\\AppData\\Local\\Temp\\ipykernel_13480\\3671318402.py\u001b[0m in \u001b[0;36m<module>\u001b[1;34m\u001b[0m\n\u001b[0;32m      1\u001b[0m \u001b[0mt\u001b[0m \u001b[1;33m=\u001b[0m \u001b[0mint\u001b[0m\u001b[1;33m(\u001b[0m\u001b[0minput\u001b[0m\u001b[1;33m(\u001b[0m\u001b[1;34m\"Enter Time : \"\u001b[0m\u001b[1;33m)\u001b[0m\u001b[1;33m)\u001b[0m\u001b[1;33m\u001b[0m\u001b[1;33m\u001b[0m\u001b[0m\n\u001b[0;32m      2\u001b[0m \u001b[1;32mfor\u001b[0m \u001b[0mi\u001b[0m \u001b[1;32min\u001b[0m \u001b[0mrange\u001b[0m\u001b[1;33m(\u001b[0m\u001b[1;36m0\u001b[0m\u001b[1;33m,\u001b[0m\u001b[0mlen\u001b[0m\u001b[1;33m(\u001b[0m\u001b[0mdf\u001b[0m\u001b[1;33m)\u001b[0m\u001b[1;33m,\u001b[0m\u001b[0mt\u001b[0m\u001b[1;33m)\u001b[0m\u001b[1;33m:\u001b[0m\u001b[1;33m\u001b[0m\u001b[1;33m\u001b[0m\u001b[0m\n\u001b[1;32m----> 3\u001b[1;33m     \u001b[0mprint\u001b[0m\u001b[1;33m(\u001b[0m\u001b[0mdf\u001b[0m\u001b[1;33m[\u001b[0m\u001b[0mi\u001b[0m\u001b[1;33m]\u001b[0m\u001b[1;33m)\u001b[0m\u001b[1;33m\u001b[0m\u001b[1;33m\u001b[0m\u001b[0m\n\u001b[0m",
      "\u001b[1;32m~\\anaconda3\\lib\\site-packages\\pandas\\core\\frame.py\u001b[0m in \u001b[0;36m__getitem__\u001b[1;34m(self, key)\u001b[0m\n\u001b[0;32m   3503\u001b[0m             \u001b[1;32mif\u001b[0m \u001b[0mself\u001b[0m\u001b[1;33m.\u001b[0m\u001b[0mcolumns\u001b[0m\u001b[1;33m.\u001b[0m\u001b[0mnlevels\u001b[0m \u001b[1;33m>\u001b[0m \u001b[1;36m1\u001b[0m\u001b[1;33m:\u001b[0m\u001b[1;33m\u001b[0m\u001b[1;33m\u001b[0m\u001b[0m\n\u001b[0;32m   3504\u001b[0m                 \u001b[1;32mreturn\u001b[0m \u001b[0mself\u001b[0m\u001b[1;33m.\u001b[0m\u001b[0m_getitem_multilevel\u001b[0m\u001b[1;33m(\u001b[0m\u001b[0mkey\u001b[0m\u001b[1;33m)\u001b[0m\u001b[1;33m\u001b[0m\u001b[1;33m\u001b[0m\u001b[0m\n\u001b[1;32m-> 3505\u001b[1;33m             \u001b[0mindexer\u001b[0m \u001b[1;33m=\u001b[0m \u001b[0mself\u001b[0m\u001b[1;33m.\u001b[0m\u001b[0mcolumns\u001b[0m\u001b[1;33m.\u001b[0m\u001b[0mget_loc\u001b[0m\u001b[1;33m(\u001b[0m\u001b[0mkey\u001b[0m\u001b[1;33m)\u001b[0m\u001b[1;33m\u001b[0m\u001b[1;33m\u001b[0m\u001b[0m\n\u001b[0m\u001b[0;32m   3506\u001b[0m             \u001b[1;32mif\u001b[0m \u001b[0mis_integer\u001b[0m\u001b[1;33m(\u001b[0m\u001b[0mindexer\u001b[0m\u001b[1;33m)\u001b[0m\u001b[1;33m:\u001b[0m\u001b[1;33m\u001b[0m\u001b[1;33m\u001b[0m\u001b[0m\n\u001b[0;32m   3507\u001b[0m                 \u001b[0mindexer\u001b[0m \u001b[1;33m=\u001b[0m \u001b[1;33m[\u001b[0m\u001b[0mindexer\u001b[0m\u001b[1;33m]\u001b[0m\u001b[1;33m\u001b[0m\u001b[1;33m\u001b[0m\u001b[0m\n",
      "\u001b[1;32m~\\anaconda3\\lib\\site-packages\\pandas\\core\\indexes\\base.py\u001b[0m in \u001b[0;36mget_loc\u001b[1;34m(self, key, method, tolerance)\u001b[0m\n\u001b[0;32m   3629\u001b[0m                 \u001b[1;32mreturn\u001b[0m \u001b[0mself\u001b[0m\u001b[1;33m.\u001b[0m\u001b[0m_engine\u001b[0m\u001b[1;33m.\u001b[0m\u001b[0mget_loc\u001b[0m\u001b[1;33m(\u001b[0m\u001b[0mcasted_key\u001b[0m\u001b[1;33m)\u001b[0m\u001b[1;33m\u001b[0m\u001b[1;33m\u001b[0m\u001b[0m\n\u001b[0;32m   3630\u001b[0m             \u001b[1;32mexcept\u001b[0m \u001b[0mKeyError\u001b[0m \u001b[1;32mas\u001b[0m \u001b[0merr\u001b[0m\u001b[1;33m:\u001b[0m\u001b[1;33m\u001b[0m\u001b[1;33m\u001b[0m\u001b[0m\n\u001b[1;32m-> 3631\u001b[1;33m                 \u001b[1;32mraise\u001b[0m \u001b[0mKeyError\u001b[0m\u001b[1;33m(\u001b[0m\u001b[0mkey\u001b[0m\u001b[1;33m)\u001b[0m \u001b[1;32mfrom\u001b[0m \u001b[0merr\u001b[0m\u001b[1;33m\u001b[0m\u001b[1;33m\u001b[0m\u001b[0m\n\u001b[0m\u001b[0;32m   3632\u001b[0m             \u001b[1;32mexcept\u001b[0m \u001b[0mTypeError\u001b[0m\u001b[1;33m:\u001b[0m\u001b[1;33m\u001b[0m\u001b[1;33m\u001b[0m\u001b[0m\n\u001b[0;32m   3633\u001b[0m                 \u001b[1;31m# If we have a listlike key, _check_indexing_error will raise\u001b[0m\u001b[1;33m\u001b[0m\u001b[1;33m\u001b[0m\u001b[0m\n",
      "\u001b[1;31mKeyError\u001b[0m: 0"
     ]
    }
   ],
   "source": [
    "t = int(input(\"Enter Time : \"))\n",
    "for i in range(0,len(df),t):\n",
    "    print(df[i])\n"
   ]
  },
  {
   "cell_type": "code",
   "execution_count": 22,
   "id": "88ac18ec",
   "metadata": {},
   "outputs": [
    {
     "name": "stdout",
     "output_type": "stream",
     "text": [
      "2023-02-28 16:56:07.676447\n"
     ]
    }
   ],
   "source": [
    "print(datetime.now())"
   ]
  }
 ],
 "metadata": {
  "kernelspec": {
   "display_name": "Python 3 (ipykernel)",
   "language": "python",
   "name": "python3"
  },
  "language_info": {
   "codemirror_mode": {
    "name": "ipython",
    "version": 3
   },
   "file_extension": ".py",
   "mimetype": "text/x-python",
   "name": "python",
   "nbconvert_exporter": "python",
   "pygments_lexer": "ipython3",
   "version": "3.9.13"
  }
 },
 "nbformat": 4,
 "nbformat_minor": 5
}
