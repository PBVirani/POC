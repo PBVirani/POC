{
 "cells": [
  {
   "cell_type": "code",
   "execution_count": 1,
   "id": "1e26e9c7",
   "metadata": {},
   "outputs": [],
   "source": [
    "#!pip install snowflake-connector-python"
   ]
  },
  {
   "cell_type": "code",
   "execution_count": 4,
   "id": "e61d895a",
   "metadata": {},
   "outputs": [
    {
     "name": "stdout",
     "output_type": "stream",
     "text": [
      "7.6.3\n"
     ]
    }
   ],
   "source": [
    "import snowflake.connector\n",
    "\n",
    "ctx = snowflake.connector.connect(\n",
    "    user='PBVIRANI',\n",
    "    password='Patel@8732',\n",
    "    account='pd06844.ap-south-1.aws'\n",
    "    )\n",
    "cs = ctx.cursor()\n",
    "try:\n",
    "    cs.execute(\"SELECT current_version()\")\n",
    "    one_row = cs.fetchone()\n",
    "    print(one_row[0])\n",
    "finally:\n",
    "    cs.close()\n",
    "ctx.close()"
   ]
  },
  {
   "cell_type": "code",
   "execution_count": 5,
   "id": "5f4c001e",
   "metadata": {},
   "outputs": [],
   "source": [
    "import pandas as pd\n",
    "\n",
    "# The Snowflake Connector library.\n",
    "import snowflake.connector as snow\n",
    "from snowflake.connector.pandas_tools import write_pandas\n",
    "\n",
    "import sqlalchemy as sql\n",
    "import pandas as pd\n",
    "import os\n",
    "\n",
    "conn = snow.connect(user=\"PBVIRANI\",\n",
    "   password=\"Patel@8732\",\n",
    "   account=\"pd06844.ap-south-1.aws\",\n",
    "   warehouse=\"DATALOADS\",\n",
    "   database=\"POC_DATASET\",\n",
    "   schema=\"POC_SCHEMA\")\n",
    "\n",
    "\n",
    "# Create a cursor object.\n",
    "cur = conn.cursor()"
   ]
  },
  {
   "cell_type": "code",
   "execution_count": 41,
   "id": "21b8e7a6",
   "metadata": {},
   "outputs": [
    {
     "data": {
      "text/plain": [
       "<snowflake.connector.cursor.SnowflakeCursor at 0x24a37044850>"
      ]
     },
     "execution_count": 41,
     "metadata": {},
     "output_type": "execute_result"
    }
   ],
   "source": [
    "# Create Table Stock_Spec\n",
    "cur.execute(\"CREATE OR REPLACE TABLE stock_spec(stock_id int identity(1,1) PRIMARY KEY,name varchar(50) not null,exchange varchar(5) not null,exchange_type varchar(10) not null,scripcode varchar(20) not null,symbol varchar(30) not null,run_type varchar(30) not null,candle_duration varchar(30),createdby varchar(50) not null,lastmodified_datetime datetime not null,lastmodifiedby varchar(50))\")"
   ]
  },
  {
   "cell_type": "code",
   "execution_count": 43,
   "id": "908739e9",
   "metadata": {},
   "outputs": [
    {
     "data": {
      "text/plain": [
       "<snowflake.connector.cursor.SnowflakeCursor at 0x24a37044850>"
      ]
     },
     "execution_count": 43,
     "metadata": {},
     "output_type": "execute_result"
    }
   ],
   "source": [
    "# Create Table Batches\n",
    "cur.execute(\"CREATE OR REPLACE TABLE batches(batch_id int identity(1,1) PRIMARY KEY NOT NULL,stock_id int FOREIGN KEY REFERENCES stock_spec(stock_id),run_type varchar(30) not null,flow_name varchar(200) not null,run_date date not null,run_start_time datetime not null,run_end_time datetime not null)\")"
   ]
  },
  {
   "cell_type": "code",
   "execution_count": 44,
   "id": "995da099",
   "metadata": {},
   "outputs": [
    {
     "data": {
      "text/plain": [
       "<snowflake.connector.cursor.SnowflakeCursor at 0x24a37044850>"
      ]
     },
     "execution_count": 44,
     "metadata": {},
     "output_type": "execute_result"
    }
   ],
   "source": [
    "# Create Table Webscrap_keys\n",
    "cur.execute(\"CREATE OR REPLACE TABLE webscrap_keys(key_id int identity(1,1) PRIMARY KEY NOT NULL,key varchar(20) NOT NULL,table_name varchar(20) NOT NULL,column_name varchar(20) NOT NULL,stock_id int not null,description varchar(200) NOT NULL)\")"
   ]
  },
  {
   "cell_type": "code",
   "execution_count": 8,
   "id": "2d6b0efd",
   "metadata": {},
   "outputs": [
    {
     "data": {
      "text/plain": [
       "<snowflake.connector.cursor.SnowflakeCursor at 0x24a37044850>"
      ]
     },
     "execution_count": 8,
     "metadata": {},
     "output_type": "execute_result"
    }
   ],
   "source": [
    "cur.execute(\"INSERT INTO stock_info(stock_symbol,stock_name,status,dataload_status) VALUES('INFY','INFOSYS',1,0)\")"
   ]
  },
  {
   "cell_type": "code",
   "execution_count": 9,
   "id": "c49bd806",
   "metadata": {},
   "outputs": [
    {
     "name": "stdout",
     "output_type": "stream",
     "text": [
      "[(1, 'INFY', 'INFOSYS', 1, 0)]\n"
     ]
    }
   ],
   "source": [
    "cur.execute(\"SELECT * FROM stock_info\")\n",
    "one_row = cur.fetchall()\n",
    "print(one_row)"
   ]
  },
  {
   "cell_type": "code",
   "execution_count": 24,
   "id": "2c4fe02b",
   "metadata": {},
   "outputs": [
    {
     "data": {
      "text/plain": [
       "<snowflake.connector.cursor.SnowflakeCursor at 0x2643da83700>"
      ]
     },
     "execution_count": 24,
     "metadata": {},
     "output_type": "execute_result"
    }
   ],
   "source": [
    " cur.execute(\"TRUNCATE TABLE DEMO\")"
   ]
  },
  {
   "cell_type": "code",
   "execution_count": 28,
   "id": "8c40f0c8",
   "metadata": {},
   "outputs": [],
   "source": [
    "import csv\n",
    "datelist = []\n",
    "file = open('demo.csv','r')\n",
    "csv_reader = csv.reader(file)\n",
    "for i in csv_reader:\n",
    "    if i[0] != \"\":\n",
    "        datelist.append(i[1])"
   ]
  },
  {
   "cell_type": "code",
   "execution_count": 33,
   "id": "a679bc23",
   "metadata": {},
   "outputs": [
    {
     "data": {
      "text/plain": [
       "<snowflake.connector.cursor.SnowflakeCursor at 0x24a37044850>"
      ]
     },
     "execution_count": 33,
     "metadata": {},
     "output_type": "execute_result"
    }
   ],
   "source": [
    "# Create Table\n",
    "cur.execute(\"CREATE OR REPLACE TABLE timestamp(time_id int identity(1,1) PRIMARY KEY,time datetime not null,holiday_status int not null)\")"
   ]
  },
  {
   "cell_type": "code",
   "execution_count": 34,
   "id": "7a1b3801",
   "metadata": {},
   "outputs": [],
   "source": [
    "for i in datelist:\n",
    "    cur.execute(\"INSERT INTO timestamp(time,holiday_status) VALUES('\"+i+\"',1)\")"
   ]
  },
  {
   "cell_type": "code",
   "execution_count": 35,
   "id": "8e577a03",
   "metadata": {},
   "outputs": [
    {
     "name": "stdout",
     "output_type": "stream",
     "text": [
      "[(1, datetime.datetime(2023, 2, 22, 9, 15), 1), (2, datetime.datetime(2023, 2, 22, 9, 16), 1), (3, datetime.datetime(2023, 2, 22, 9, 17), 1), (4, datetime.datetime(2023, 2, 22, 9, 18), 1), (5, datetime.datetime(2023, 2, 22, 9, 19), 1), (6, datetime.datetime(2023, 2, 22, 9, 20), 1), (7, datetime.datetime(2023, 2, 22, 9, 21), 1), (8, datetime.datetime(2023, 2, 22, 9, 22), 1), (9, datetime.datetime(2023, 2, 22, 9, 23), 1), (10, datetime.datetime(2023, 2, 22, 9, 24), 1), (11, datetime.datetime(2023, 2, 22, 9, 25), 1), (12, datetime.datetime(2023, 2, 22, 9, 26), 1), (13, datetime.datetime(2023, 2, 22, 9, 27), 1), (14, datetime.datetime(2023, 2, 22, 9, 28), 1), (15, datetime.datetime(2023, 2, 22, 9, 29), 1), (16, datetime.datetime(2023, 2, 22, 9, 30), 1), (17, datetime.datetime(2023, 2, 22, 9, 31), 1), (18, datetime.datetime(2023, 2, 22, 9, 32), 1), (19, datetime.datetime(2023, 2, 22, 9, 33), 1), (20, datetime.datetime(2023, 2, 22, 9, 34), 1), (21, datetime.datetime(2023, 2, 22, 9, 35), 1), (22, datetime.datetime(2023, 2, 22, 9, 36), 1), (23, datetime.datetime(2023, 2, 22, 9, 37), 1), (24, datetime.datetime(2023, 2, 22, 9, 38), 1), (25, datetime.datetime(2023, 2, 22, 9, 39), 1), (26, datetime.datetime(2023, 2, 22, 9, 40), 1), (27, datetime.datetime(2023, 2, 22, 9, 41), 1), (28, datetime.datetime(2023, 2, 22, 9, 42), 1), (29, datetime.datetime(2023, 2, 22, 9, 43), 1), (30, datetime.datetime(2023, 2, 22, 9, 44), 1), (31, datetime.datetime(2023, 2, 22, 9, 45), 1), (32, datetime.datetime(2023, 2, 22, 9, 46), 1), (33, datetime.datetime(2023, 2, 22, 9, 47), 1), (34, datetime.datetime(2023, 2, 22, 9, 48), 1), (35, datetime.datetime(2023, 2, 22, 9, 49), 1), (36, datetime.datetime(2023, 2, 22, 9, 50), 1), (37, datetime.datetime(2023, 2, 22, 9, 51), 1), (38, datetime.datetime(2023, 2, 22, 9, 52), 1), (39, datetime.datetime(2023, 2, 22, 9, 53), 1), (40, datetime.datetime(2023, 2, 22, 9, 54), 1), (41, datetime.datetime(2023, 2, 22, 9, 55), 1), (42, datetime.datetime(2023, 2, 22, 9, 56), 1), (43, datetime.datetime(2023, 2, 22, 9, 57), 1), (44, datetime.datetime(2023, 2, 22, 9, 58), 1), (45, datetime.datetime(2023, 2, 22, 9, 59), 1), (46, datetime.datetime(2023, 2, 22, 10, 0), 1), (47, datetime.datetime(2023, 2, 22, 10, 1), 1), (48, datetime.datetime(2023, 2, 22, 10, 2), 1), (49, datetime.datetime(2023, 2, 22, 10, 3), 1), (50, datetime.datetime(2023, 2, 22, 10, 4), 1), (51, datetime.datetime(2023, 2, 22, 10, 5), 1), (52, datetime.datetime(2023, 2, 22, 10, 6), 1), (53, datetime.datetime(2023, 2, 22, 10, 7), 1), (54, datetime.datetime(2023, 2, 22, 10, 8), 1), (55, datetime.datetime(2023, 2, 22, 10, 9), 1), (56, datetime.datetime(2023, 2, 22, 10, 10), 1), (57, datetime.datetime(2023, 2, 22, 10, 11), 1), (58, datetime.datetime(2023, 2, 22, 10, 12), 1), (59, datetime.datetime(2023, 2, 22, 10, 13), 1), (60, datetime.datetime(2023, 2, 22, 10, 14), 1), (61, datetime.datetime(2023, 2, 22, 10, 15), 1), (62, datetime.datetime(2023, 2, 22, 10, 16), 1), (63, datetime.datetime(2023, 2, 22, 10, 17), 1), (64, datetime.datetime(2023, 2, 22, 10, 18), 1), (65, datetime.datetime(2023, 2, 22, 10, 19), 1), (66, datetime.datetime(2023, 2, 22, 10, 20), 1), (67, datetime.datetime(2023, 2, 22, 10, 21), 1), (68, datetime.datetime(2023, 2, 22, 10, 22), 1), (69, datetime.datetime(2023, 2, 22, 10, 23), 1), (70, datetime.datetime(2023, 2, 22, 10, 24), 1), (71, datetime.datetime(2023, 2, 22, 10, 25), 1), (72, datetime.datetime(2023, 2, 22, 10, 26), 1), (73, datetime.datetime(2023, 2, 22, 10, 27), 1), (74, datetime.datetime(2023, 2, 22, 10, 28), 1), (75, datetime.datetime(2023, 2, 22, 10, 29), 1), (76, datetime.datetime(2023, 2, 22, 10, 30), 1), (77, datetime.datetime(2023, 2, 22, 10, 31), 1), (78, datetime.datetime(2023, 2, 22, 10, 32), 1), (79, datetime.datetime(2023, 2, 22, 10, 33), 1), (80, datetime.datetime(2023, 2, 22, 10, 34), 1), (81, datetime.datetime(2023, 2, 22, 10, 35), 1), (82, datetime.datetime(2023, 2, 22, 10, 36), 1), (83, datetime.datetime(2023, 2, 22, 10, 37), 1), (84, datetime.datetime(2023, 2, 22, 10, 38), 1), (85, datetime.datetime(2023, 2, 22, 10, 39), 1), (86, datetime.datetime(2023, 2, 22, 10, 40), 1), (87, datetime.datetime(2023, 2, 22, 10, 41), 1), (88, datetime.datetime(2023, 2, 22, 10, 42), 1), (89, datetime.datetime(2023, 2, 22, 10, 43), 1), (90, datetime.datetime(2023, 2, 22, 10, 44), 1), (91, datetime.datetime(2023, 2, 22, 10, 45), 1), (92, datetime.datetime(2023, 2, 22, 10, 46), 1), (93, datetime.datetime(2023, 2, 22, 10, 47), 1), (94, datetime.datetime(2023, 2, 22, 10, 48), 1), (95, datetime.datetime(2023, 2, 22, 10, 49), 1), (96, datetime.datetime(2023, 2, 22, 10, 50), 1), (97, datetime.datetime(2023, 2, 22, 10, 51), 1), (98, datetime.datetime(2023, 2, 22, 10, 52), 1), (99, datetime.datetime(2023, 2, 22, 10, 53), 1), (100, datetime.datetime(2023, 2, 22, 10, 54), 1), (101, datetime.datetime(2023, 2, 22, 10, 55), 1), (102, datetime.datetime(2023, 2, 22, 10, 56), 1), (103, datetime.datetime(2023, 2, 22, 10, 57), 1), (104, datetime.datetime(2023, 2, 22, 10, 58), 1), (105, datetime.datetime(2023, 2, 22, 10, 59), 1), (106, datetime.datetime(2023, 2, 22, 11, 0), 1), (107, datetime.datetime(2023, 2, 22, 11, 1), 1), (108, datetime.datetime(2023, 2, 22, 11, 2), 1), (109, datetime.datetime(2023, 2, 22, 11, 3), 1), (110, datetime.datetime(2023, 2, 22, 11, 4), 1), (111, datetime.datetime(2023, 2, 22, 11, 5), 1), (112, datetime.datetime(2023, 2, 22, 11, 6), 1), (113, datetime.datetime(2023, 2, 22, 11, 7), 1), (114, datetime.datetime(2023, 2, 22, 11, 8), 1), (115, datetime.datetime(2023, 2, 22, 11, 9), 1), (116, datetime.datetime(2023, 2, 22, 11, 10), 1), (117, datetime.datetime(2023, 2, 22, 11, 11), 1), (118, datetime.datetime(2023, 2, 22, 11, 12), 1), (119, datetime.datetime(2023, 2, 22, 11, 13), 1), (120, datetime.datetime(2023, 2, 22, 11, 14), 1), (121, datetime.datetime(2023, 2, 22, 11, 15), 1), (122, datetime.datetime(2023, 2, 22, 11, 16), 1), (123, datetime.datetime(2023, 2, 22, 11, 17), 1), (124, datetime.datetime(2023, 2, 22, 11, 18), 1), (125, datetime.datetime(2023, 2, 22, 11, 19), 1), (126, datetime.datetime(2023, 2, 22, 11, 20), 1), (127, datetime.datetime(2023, 2, 22, 11, 21), 1), (128, datetime.datetime(2023, 2, 22, 11, 22), 1), (129, datetime.datetime(2023, 2, 22, 11, 23), 1), (130, datetime.datetime(2023, 2, 22, 11, 24), 1), (131, datetime.datetime(2023, 2, 22, 11, 25), 1), (132, datetime.datetime(2023, 2, 22, 11, 26), 1), (133, datetime.datetime(2023, 2, 22, 11, 27), 1), (134, datetime.datetime(2023, 2, 22, 11, 28), 1), (135, datetime.datetime(2023, 2, 22, 11, 29), 1), (136, datetime.datetime(2023, 2, 22, 11, 30), 1), (137, datetime.datetime(2023, 2, 22, 11, 31), 1), (138, datetime.datetime(2023, 2, 22, 11, 32), 1), (139, datetime.datetime(2023, 2, 22, 11, 33), 1), (140, datetime.datetime(2023, 2, 22, 11, 34), 1), (141, datetime.datetime(2023, 2, 22, 11, 35), 1), (142, datetime.datetime(2023, 2, 22, 11, 36), 1), (143, datetime.datetime(2023, 2, 22, 11, 37), 1), (144, datetime.datetime(2023, 2, 22, 11, 38), 1), (145, datetime.datetime(2023, 2, 22, 11, 39), 1), (146, datetime.datetime(2023, 2, 22, 11, 40), 1), (147, datetime.datetime(2023, 2, 22, 11, 41), 1), (148, datetime.datetime(2023, 2, 22, 11, 42), 1), (149, datetime.datetime(2023, 2, 22, 11, 43), 1), (150, datetime.datetime(2023, 2, 22, 11, 44), 1), (151, datetime.datetime(2023, 2, 22, 11, 45), 1), (152, datetime.datetime(2023, 2, 22, 11, 46), 1), (153, datetime.datetime(2023, 2, 22, 11, 47), 1), (154, datetime.datetime(2023, 2, 22, 11, 48), 1), (155, datetime.datetime(2023, 2, 22, 11, 49), 1), (156, datetime.datetime(2023, 2, 22, 11, 50), 1), (157, datetime.datetime(2023, 2, 22, 11, 51), 1), (158, datetime.datetime(2023, 2, 22, 11, 52), 1), (159, datetime.datetime(2023, 2, 22, 11, 53), 1), (160, datetime.datetime(2023, 2, 22, 11, 54), 1), (161, datetime.datetime(2023, 2, 22, 11, 55), 1), (162, datetime.datetime(2023, 2, 22, 11, 56), 1), (163, datetime.datetime(2023, 2, 22, 11, 57), 1), (164, datetime.datetime(2023, 2, 22, 11, 58), 1), (165, datetime.datetime(2023, 2, 22, 11, 59), 1), (166, datetime.datetime(2023, 2, 22, 12, 0), 1), (167, datetime.datetime(2023, 2, 22, 12, 1), 1), (168, datetime.datetime(2023, 2, 22, 12, 2), 1), (169, datetime.datetime(2023, 2, 22, 12, 3), 1), (170, datetime.datetime(2023, 2, 22, 12, 4), 1), (171, datetime.datetime(2023, 2, 22, 12, 5), 1), (172, datetime.datetime(2023, 2, 22, 12, 6), 1), (173, datetime.datetime(2023, 2, 22, 12, 7), 1), (174, datetime.datetime(2023, 2, 22, 12, 8), 1), (175, datetime.datetime(2023, 2, 22, 12, 9), 1), (176, datetime.datetime(2023, 2, 22, 12, 10), 1), (177, datetime.datetime(2023, 2, 22, 12, 11), 1), (178, datetime.datetime(2023, 2, 22, 12, 12), 1), (179, datetime.datetime(2023, 2, 22, 12, 13), 1), (180, datetime.datetime(2023, 2, 22, 12, 14), 1), (181, datetime.datetime(2023, 2, 22, 12, 15), 1), (182, datetime.datetime(2023, 2, 22, 12, 16), 1), (183, datetime.datetime(2023, 2, 22, 12, 17), 1), (184, datetime.datetime(2023, 2, 22, 12, 18), 1), (185, datetime.datetime(2023, 2, 22, 12, 19), 1), (186, datetime.datetime(2023, 2, 22, 12, 20), 1), (187, datetime.datetime(2023, 2, 22, 12, 21), 1), (188, datetime.datetime(2023, 2, 22, 12, 22), 1), (189, datetime.datetime(2023, 2, 22, 12, 23), 1), (190, datetime.datetime(2023, 2, 22, 12, 24), 1), (191, datetime.datetime(2023, 2, 22, 12, 25), 1), (192, datetime.datetime(2023, 2, 22, 12, 26), 1), (193, datetime.datetime(2023, 2, 22, 12, 27), 1), (194, datetime.datetime(2023, 2, 22, 12, 28), 1), (195, datetime.datetime(2023, 2, 22, 12, 29), 1), (196, datetime.datetime(2023, 2, 22, 12, 30), 1), (197, datetime.datetime(2023, 2, 22, 12, 31), 1), (198, datetime.datetime(2023, 2, 22, 12, 32), 1), (199, datetime.datetime(2023, 2, 22, 12, 33), 1), (200, datetime.datetime(2023, 2, 22, 12, 34), 1), (201, datetime.datetime(2023, 2, 22, 12, 35), 1), (202, datetime.datetime(2023, 2, 22, 12, 36), 1), (203, datetime.datetime(2023, 2, 22, 12, 37), 1), (204, datetime.datetime(2023, 2, 22, 12, 38), 1), (205, datetime.datetime(2023, 2, 22, 12, 39), 1), (206, datetime.datetime(2023, 2, 22, 12, 40), 1), (207, datetime.datetime(2023, 2, 22, 12, 41), 1), (208, datetime.datetime(2023, 2, 22, 12, 42), 1), (209, datetime.datetime(2023, 2, 22, 12, 43), 1), (210, datetime.datetime(2023, 2, 22, 12, 44), 1), (211, datetime.datetime(2023, 2, 22, 12, 45), 1), (212, datetime.datetime(2023, 2, 22, 12, 46), 1), (213, datetime.datetime(2023, 2, 22, 12, 47), 1), (214, datetime.datetime(2023, 2, 22, 12, 48), 1), (215, datetime.datetime(2023, 2, 22, 12, 49), 1), (216, datetime.datetime(2023, 2, 22, 12, 50), 1), (217, datetime.datetime(2023, 2, 22, 12, 51), 1), (218, datetime.datetime(2023, 2, 22, 12, 52), 1), (219, datetime.datetime(2023, 2, 22, 12, 53), 1), (220, datetime.datetime(2023, 2, 22, 12, 54), 1), (221, datetime.datetime(2023, 2, 22, 12, 55), 1), (222, datetime.datetime(2023, 2, 22, 12, 56), 1), (223, datetime.datetime(2023, 2, 22, 12, 57), 1), (224, datetime.datetime(2023, 2, 22, 12, 58), 1), (225, datetime.datetime(2023, 2, 22, 12, 59), 1), (226, datetime.datetime(2023, 2, 22, 13, 0), 1), (227, datetime.datetime(2023, 2, 22, 13, 1), 1), (228, datetime.datetime(2023, 2, 22, 13, 2), 1), (229, datetime.datetime(2023, 2, 22, 13, 3), 1), (230, datetime.datetime(2023, 2, 22, 13, 4), 1), (231, datetime.datetime(2023, 2, 22, 13, 5), 1), (232, datetime.datetime(2023, 2, 22, 13, 6), 1), (233, datetime.datetime(2023, 2, 22, 13, 7), 1), (234, datetime.datetime(2023, 2, 22, 13, 8), 1), (235, datetime.datetime(2023, 2, 22, 13, 9), 1), (236, datetime.datetime(2023, 2, 22, 13, 10), 1), (237, datetime.datetime(2023, 2, 22, 13, 11), 1), (238, datetime.datetime(2023, 2, 22, 13, 12), 1), (239, datetime.datetime(2023, 2, 22, 13, 13), 1), (240, datetime.datetime(2023, 2, 22, 13, 14), 1), (241, datetime.datetime(2023, 2, 22, 13, 15), 1), (242, datetime.datetime(2023, 2, 22, 13, 16), 1), (243, datetime.datetime(2023, 2, 22, 13, 17), 1), (244, datetime.datetime(2023, 2, 22, 13, 18), 1), (245, datetime.datetime(2023, 2, 22, 13, 19), 1), (246, datetime.datetime(2023, 2, 22, 13, 20), 1), (247, datetime.datetime(2023, 2, 22, 13, 21), 1), (248, datetime.datetime(2023, 2, 22, 13, 22), 1), (249, datetime.datetime(2023, 2, 22, 13, 23), 1), (250, datetime.datetime(2023, 2, 22, 13, 24), 1), (251, datetime.datetime(2023, 2, 22, 13, 25), 1), (252, datetime.datetime(2023, 2, 22, 13, 26), 1), (253, datetime.datetime(2023, 2, 22, 13, 27), 1), (254, datetime.datetime(2023, 2, 22, 13, 28), 1), (255, datetime.datetime(2023, 2, 22, 13, 29), 1), (256, datetime.datetime(2023, 2, 22, 13, 30), 1), (257, datetime.datetime(2023, 2, 22, 13, 31), 1), (258, datetime.datetime(2023, 2, 22, 13, 32), 1), (259, datetime.datetime(2023, 2, 22, 13, 33), 1), (260, datetime.datetime(2023, 2, 22, 13, 34), 1), (261, datetime.datetime(2023, 2, 22, 13, 35), 1), (262, datetime.datetime(2023, 2, 22, 13, 36), 1), (263, datetime.datetime(2023, 2, 22, 13, 37), 1), (264, datetime.datetime(2023, 2, 22, 13, 38), 1), (265, datetime.datetime(2023, 2, 22, 13, 39), 1), (266, datetime.datetime(2023, 2, 22, 13, 40), 1), (267, datetime.datetime(2023, 2, 22, 13, 41), 1), (268, datetime.datetime(2023, 2, 22, 13, 42), 1), (269, datetime.datetime(2023, 2, 22, 13, 43), 1), (270, datetime.datetime(2023, 2, 22, 13, 44), 1), (271, datetime.datetime(2023, 2, 22, 13, 45), 1), (272, datetime.datetime(2023, 2, 22, 13, 46), 1), (273, datetime.datetime(2023, 2, 22, 13, 47), 1), (274, datetime.datetime(2023, 2, 22, 13, 48), 1), (275, datetime.datetime(2023, 2, 22, 13, 49), 1), (276, datetime.datetime(2023, 2, 22, 13, 50), 1), (277, datetime.datetime(2023, 2, 22, 13, 51), 1), (278, datetime.datetime(2023, 2, 22, 13, 52), 1), (279, datetime.datetime(2023, 2, 22, 13, 53), 1), (280, datetime.datetime(2023, 2, 22, 13, 54), 1), (281, datetime.datetime(2023, 2, 22, 13, 55), 1), (282, datetime.datetime(2023, 2, 22, 13, 56), 1), (283, datetime.datetime(2023, 2, 22, 13, 57), 1), (284, datetime.datetime(2023, 2, 22, 13, 58), 1), (285, datetime.datetime(2023, 2, 22, 13, 59), 1), (286, datetime.datetime(2023, 2, 22, 14, 0), 1), (287, datetime.datetime(2023, 2, 22, 14, 1), 1), (288, datetime.datetime(2023, 2, 22, 14, 2), 1), (289, datetime.datetime(2023, 2, 22, 14, 3), 1), (290, datetime.datetime(2023, 2, 22, 14, 4), 1), (291, datetime.datetime(2023, 2, 22, 14, 5), 1), (292, datetime.datetime(2023, 2, 22, 14, 6), 1), (293, datetime.datetime(2023, 2, 22, 14, 7), 1), (294, datetime.datetime(2023, 2, 22, 14, 8), 1), (295, datetime.datetime(2023, 2, 22, 14, 9), 1), (296, datetime.datetime(2023, 2, 22, 14, 10), 1), (297, datetime.datetime(2023, 2, 22, 14, 11), 1), (298, datetime.datetime(2023, 2, 22, 14, 12), 1), (299, datetime.datetime(2023, 2, 22, 14, 13), 1), (300, datetime.datetime(2023, 2, 22, 14, 14), 1), (301, datetime.datetime(2023, 2, 22, 14, 15), 1), (302, datetime.datetime(2023, 2, 22, 14, 16), 1), (303, datetime.datetime(2023, 2, 22, 14, 17), 1), (304, datetime.datetime(2023, 2, 22, 14, 18), 1), (305, datetime.datetime(2023, 2, 22, 14, 19), 1), (306, datetime.datetime(2023, 2, 22, 14, 20), 1), (307, datetime.datetime(2023, 2, 22, 14, 21), 1), (308, datetime.datetime(2023, 2, 22, 14, 22), 1), (309, datetime.datetime(2023, 2, 22, 14, 23), 1), (310, datetime.datetime(2023, 2, 22, 14, 24), 1), (311, datetime.datetime(2023, 2, 22, 14, 25), 1), (312, datetime.datetime(2023, 2, 22, 14, 26), 1), (313, datetime.datetime(2023, 2, 22, 14, 27), 1), (314, datetime.datetime(2023, 2, 22, 14, 28), 1), (315, datetime.datetime(2023, 2, 22, 14, 29), 1), (316, datetime.datetime(2023, 2, 22, 14, 30), 1), (317, datetime.datetime(2023, 2, 22, 14, 31), 1), (318, datetime.datetime(2023, 2, 22, 14, 32), 1), (319, datetime.datetime(2023, 2, 22, 14, 33), 1)]\n"
     ]
    }
   ],
   "source": [
    "cur.execute(\"SELECT * FROM timestamp\")\n",
    "one_row = cur.fetchall()\n",
    "print(one_row)"
   ]
  },
  {
   "cell_type": "code",
   "execution_count": 40,
   "id": "21766c4f",
   "metadata": {},
   "outputs": [
    {
     "data": {
      "text/plain": [
       "<snowflake.connector.cursor.SnowflakeCursor at 0x24a37044850>"
      ]
     },
     "execution_count": 40,
     "metadata": {},
     "output_type": "execute_result"
    }
   ],
   "source": [
    "# Create Table\n",
    "cur.execute(\"CREATE OR REPLACE TABLE stock_statistics(statistics_id int identity(1,1) PRIMARY KEY not null,stock_id int FOREIGN KEY REFERENCES stock_info(stock_id) not null,datetime datetime not null,current_price FLOAT not null,open FLOAT not null,close FLOAT not null,high FLOAT not null,low FLOAT not null)\")"
   ]
  }
 ],
 "metadata": {
  "kernelspec": {
   "display_name": "Python 3 (ipykernel)",
   "language": "python",
   "name": "python3"
  },
  "language_info": {
   "codemirror_mode": {
    "name": "ipython",
    "version": 3
   },
   "file_extension": ".py",
   "mimetype": "text/x-python",
   "name": "python",
   "nbconvert_exporter": "python",
   "pygments_lexer": "ipython3",
   "version": "3.9.13"
  }
 },
 "nbformat": 4,
 "nbformat_minor": 5
}
